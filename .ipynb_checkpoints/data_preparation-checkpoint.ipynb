{
 "cells": [
  {
   "cell_type": "code",
   "execution_count": 17,
   "id": "79559b30",
   "metadata": {},
   "outputs": [],
   "source": [
    "import pandas as pd\n",
    "import numpy as np\n",
    "\n",
    "\n",
    "field_data = pd.read_csv(\"data/field_data.csv\")\n",
    "vegetation_data = pd.read_csv(\"data/vegetation_data.csv\")\n"
   ]
  },
  {
   "cell_type": "code",
   "execution_count": 18,
   "id": "115c44f9",
   "metadata": {},
   "outputs": [],
   "source": [
    "vegetation_data['Cl'] = field_data['T1_675'] * field_data['T1_690'] / field_data['T1_683']**2\n",
    "vegetation_data['Clre'] = field_data['T1_750'] / field_data['T1_710'] - 1\n",
    "vegetation_data['Datt1'] = (field_data['T1_850'] - field_data['T1_710']) / (field_data['T1_850'] - field_data['T1_680'])\n",
    "vegetation_data['Datt4'] = field_data['T1_672'] / (field_data['T1_550'] * field_data['T1_708'])\n",
    "vegetation_data['Datt6'] = field_data['T1_860'] / (field_data['T1_550'] * field_data['T1_708'])\n",
    "vegetation_data['DDI'] = (field_data['T1_749'] - field_data['T1_720']) - (field_data['T1_701'] - field_data['T1_672'])\n",
    "vegetation_data['DPI'] = (field_data['T1_688'] + field_data['T1_710']) / field_data['T1_697']**2\n",
    "vegetation_data['GNDVI'] = (field_data['T1_750'] - field_data['T1_550']) / (field_data['T1_750'] + field_data['T1_550'])\n",
    "\n",
    "vegetation_data['MCARI'] = ((field_data['T1_700'] - field_data['T1_670']) - 0.2 * (field_data['T1_700'] - field_data['T1_550'])) * (field_data['T1_700'] / field_data['T1_670'])\n",
    "\n",
    "# Compute and add the MCARI3 column\n",
    "vegetation_data['MCARI3'] = ((field_data['T1_750'] - field_data['T1_710']) - 0.2 * (field_data['T1_750'] - field_data['T1_550'])) * (field_data['T1_750'] / field_data['T1_715'])\n",
    "\n",
    "# Assuming you've already loaded the field_data and vegetation_data DataFrames\n",
    "# Assuming you've already loaded the field_data and vegetation_data DataFrames\n",
    "\n",
    "# Compute and add the columns based on the provided formulas\n",
    "vegetation_data['mSR'] = (field_data['T1_800'] - field_data['T1_445']) / (field_data['T1_680'] - field_data['T1_445'])\n",
    "vegetation_data['mSR2'] = (field_data['T1_750'] / field_data['T1_705'] - 1) / np.sqrt(field_data['T1_750'] / field_data['T1_705'] + 1)\n",
    "vegetation_data['MTCI'] = (field_data['T1_754'] - field_data['T1_709']) / (field_data['T1_709'] - field_data['T1_681'])\n",
    "vegetation_data['MTVI1'] = 1.2 * (1.2 * (field_data['T1_800'] - field_data['T1_550']) - 2.5 * (field_data['T1_670'] - field_data['T1_550']))\n",
    "vegetation_data['ND1'] = (field_data['T1_550'] - field_data['T1_531']) / (field_data['T1_550'] + field_data['T1_531'])\n",
    "vegetation_data['ND2'] = (field_data['T1_682'] - field_data['T1_553']) / (field_data['T1_682'] + field_data['T1_553'])\n",
    "vegetation_data['NDchl'] = (field_data['T1_925'] - field_data['T1_710']) / (field_data['T1_925'] + field_data['T1_710'])\n",
    "vegetation_data['NDRE'] = (field_data['T1_790'] - field_data['T1_720']) / (field_data['T1_790'] + field_data['T1_720'])\n",
    "vegetation_data['NDVI1'] = (field_data['T1_750'] - field_data['T1_650']) / (field_data['T1_750'] + field_data['T1_650'])\n",
    "vegetation_data['NDVI2'] = (field_data['T1_750'] - field_data['T1_550']) / (field_data['T1_750'] + field_data['T1_550'])\n",
    "vegetation_data['NDVI3'] = (field_data['T1_750'] - field_data['T1_710']) / (field_data['T1_750'] + field_data['T1_710'])\n",
    "vegetation_data['NPCL'] = (field_data['T1_680'] - field_data['T1_430']) / (field_data['T1_680'] + field_data['T1_430'])\n",
    "vegetation_data['NPQI'] = (field_data['T1_415'] - field_data['T1_435']) / (field_data['T1_415'] + field_data['T1_435'])\n",
    "vegetation_data['OSAVI'] = (1 + 0.16) * (field_data['T1_800'] - field_data['T1_670']) / (field_data['T1_800'] + field_data['T1_670'] + 0.16)\n",
    "vegetation_data['PBI'] = field_data['T1_810'] / field_data['T1_560']\n",
    "vegetation_data['PPR'] = (field_data['T1_550'] - field_data['T1_450']) / (field_data['T1_550'] + field_data['T1_450'])\n",
    "vegetation_data['PRI'] = (field_data['T1_550'] - field_data['T1_530']) / (field_data['T1_550'] + field_data['T1_530'])\n",
    "vegetation_data['PSNDb1'] = (field_data['T1_800'] - field_data['T1_650']) / (field_data['T1_800'] + field_data['T1_650'])\n",
    "vegetation_data['PSNDc1'] = (field_data['T1_800'] - field_data['T1_500']) / (field_data['T1_800'] + field_data['T1_500'])\n",
    "vegetation_data['PSNDc2'] = (field_data['T1_800'] - field_data['T1_470']) / (field_data['T1_800'] + field_data['T1_470'])\n",
    "vegetation_data['PSRI'] = (field_data['T1_678'] - field_data['T1_500']) / field_data['T1_750']\n",
    "vegetation_data['PSSRc1'] = field_data['T1_800'] / field_data['T1_500']\n",
    "vegetation_data['PSSRc2'] = field_data['T1_800'] / field_data['T1_740']\n",
    "vegetation_data['PVR'] = field_data['T1_550'] - field_data['T1_650'] / (field_data['T1_550'] + field_data['T1_650'])\n",
    "vegetation_data['PWI'] = field_data['T1_970'] / field_data['T1_900']\n",
    "vegetation_data['RDVI'] = (field_data['T1_800'] - field_data['T1_670']) / np.sqrt(field_data['T1_800'] + field_data['T1_670'])\n",
    "vegetation_data['RVSI'] = (field_data['T1_718'] + field_data['T1_748']) / 2 - field_data['T1_733']\n",
    "vegetation_data['SAVI'] = 1.16 * (field_data['T1_800'] - field_data['T1_670']) / (field_data['T1_800'] + field_data['T1_670'] + 0.16)\n",
    "vegetation_data['SIPI'] = (field_data['T1_800'] - field_data['T1_445']) / (field_data['T1_800'] + field_data['T1_680'])\n",
    "vegetation_data['SR1'] = field_data['T1_430'] / field_data['T1_680']\n",
    "vegetation_data['SR2'] = field_data['T1_440'] / field_data['T1_740']\n",
    "vegetation_data['SR3'] = field_data['T1_550'] / field_data['T1_672']\n",
    "vegetation_data['SR4'] = field_data['T1_550'] / field_data['T1_750']\n",
    "vegetation_data['DSWI-4'] = field_data['T1_550'] / field_data['T1_680']\n",
    "vegetation_data['SRPI'] = field_data['T1_430'] / field_data['T1_680']\n",
    "vegetation_data['TCARI'] = 3 * ((field_data['T1_700'] - field_data['T1_670']) - 0.2 * (field_data['T1_700'] - field_data['T1_550']) * (field_data['T1_700'] / field_data['T1_670']))\n",
    "vegetation_data['TCI'] = 1.2 * (field_data['T1_700'] - field_data['T1_550']) - 1.5 * (field_data['T1_670'] - field_data['T1_550']) * np.sqrt((field_data['T1_700'] / field_data['T1_670']))\n",
    "vegetation_data['TVI'] = 0.5 * (120 * (field_data['T1_750'] - field_data['T1_550']) - 200 * (field_data['T1_670'] - field_data['T1_550']))\n",
    "vegetation_data['WBI'] = field_data['T1_970'] / field_data['T1_902']\n",
    "\n",
    "# Save the updated vegetation_data DataFrame back to the CSV file\n",
    "\n",
    "\n"
   ]
  },
  {
   "cell_type": "code",
   "execution_count": 21,
   "id": "bb9f6d71",
   "metadata": {},
   "outputs": [],
   "source": [
    "vegetation_data.to_csv(\"data/vegetation_data.csv\", index=False)\n"
   ]
  },
  {
   "cell_type": "code",
   "execution_count": null,
   "id": "088b9a2d",
   "metadata": {},
   "outputs": [],
   "source": []
  }
 ],
 "metadata": {
  "kernelspec": {
   "display_name": "Python 3 (ipykernel)",
   "language": "python",
   "name": "python3"
  },
  "language_info": {
   "codemirror_mode": {
    "name": "ipython",
    "version": 3
   },
   "file_extension": ".py",
   "mimetype": "text/x-python",
   "name": "python",
   "nbconvert_exporter": "python",
   "pygments_lexer": "ipython3",
   "version": "3.9.12"
  }
 },
 "nbformat": 4,
 "nbformat_minor": 5
}
